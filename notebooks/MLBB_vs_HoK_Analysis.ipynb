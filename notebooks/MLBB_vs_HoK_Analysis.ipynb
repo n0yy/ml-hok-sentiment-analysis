{
  "cells": [
    {
      "cell_type": "code",
      "execution_count": 20,
      "metadata": {
        "colab": {
          "base_uri": "https://localhost:8080/"
        },
        "id": "Ytkm_yrhtH3f",
        "outputId": "35e49c12-bb03-4f5d-e4a4-d025879af99b"
      },
      "outputs": [
        {
          "name": "stderr",
          "output_type": "stream",
          "text": [
            "[nltk_data] Downloading package stopwords to /root/nltk_data...\n",
            "[nltk_data]   Package stopwords is already up-to-date!\n",
            "[nltk_data] Downloading package punkt_tab to /root/nltk_data...\n",
            "[nltk_data]   Package punkt_tab is already up-to-date!\n"
          ]
        }
      ],
      "source": [
        "import pandas as pd\n",
        "import numpy as np\n",
        "import matplotlib.pyplot as plt\n",
        "import seaborn as sns\n",
        "\n",
        "from sklearn.feature_extraction.text import CountVectorizer\n",
        "\n",
        "import nltk\n",
        "nltk.download('stopwords')\n",
        "nltk.download('punkt_tab')\n",
        "from nltk.corpus import stopwords\n",
        "from nltk.tokenize import word_tokenize\n",
        "\n",
        "from wordcloud import WordCloud\n",
        "from Sastrawi.Stemmer.StemmerFactory import StemmerFactory\n",
        "from string import punctuation\n",
        "\n",
        "from typing import Dict, Union, List, Optional\n",
        "from transformers import AutoTokenizer, AutoModelForSequenceClassification, pipeline\n",
        "from dataclasses import dataclass\n",
        "from functools import lru_cache\n",
        "\n",
        "from tqdm.auto import tqdm\n",
        "from tqdm.notebook import tqdm_notebook\n",
        "\n",
        "sw_indo = list(stopwords.words('indonesian') + list(punctuation))"
      ]
    },
    {
      "cell_type": "code",
      "execution_count": 29,
      "metadata": {
        "colab": {
          "base_uri": "https://localhost:8080/"
        },
        "id": "XrGehR8-BBl9",
        "outputId": "083ced80-ce4d-461b-c546-5e7d63bc1cc9"
      },
      "outputs": [
        {
          "name": "stdout",
          "output_type": "stream",
          "text": [
            "(4440, 4)\n"
          ]
        }
      ],
      "source": [
        "df = pd.read_csv(\"/content/MLBB Reviews.csv\")\n",
        "# resample to make df same length with df before\n",
        "len_df_before = 4440\n",
        "df = df.sample(len_df_before)\n",
        "# Parse date and sort ascending\n",
        "df['date'] = pd.to_datetime(df['date'], format=\"%d %B %Y\", errors=\"coerce\")\n",
        "df = df.sort_values(by='date')\n",
        "df.head()"
      ]
    },
    {
      "cell_type": "markdown",
      "metadata": {
        "id": "cnHgx1NXENfh"
      },
      "source": [
        "# Preprocessing"
      ]
    },
    {
      "cell_type": "code",
      "execution_count": 8,
      "metadata": {
        "id": "j6qsYQjYEPDW"
      },
      "outputs": [],
      "source": [
        "class Preprocessor:\n",
        "    def __init__(self):\n",
        "        self.stemmer = StemmerFactory().create_stemmer()\n",
        "        self.tokenizer = word_tokenize\n",
        "        self.stopwords = sw_indo\n",
        "\n",
        "    def lowercasing(self, text: str) -> str:\n",
        "        \"\"\"Mengubah text menjadi lowercase dengan penanganan error\"\"\"\n",
        "        if not isinstance(text, str):\n",
        "            if pd.isna(text):\n",
        "                return \"\"\n",
        "            text = str(text)\n",
        "        return text.lower()\n",
        "\n",
        "    def stemming(self, text: str) -> str:\n",
        "        \"\"\"Melakukan stemming dengan penanganan error\"\"\"\n",
        "        if not text:\n",
        "            return \"\"\n",
        "        try:\n",
        "            return self.stemmer.stem(text)\n",
        "        except Exception as e:\n",
        "            print(f\"Warning: Error pada stemming '{text[:50]}...': {str(e)}\")\n",
        "            return text\n",
        "\n",
        "    def tokenize(self, text: str) -> List[str]:\n",
        "        \"\"\"Melakukan tokenisasi dengan penanganan error\"\"\"\n",
        "        if not text:\n",
        "            return []\n",
        "        try:\n",
        "            return self.tokenizer(text)\n",
        "        except Exception as e:\n",
        "            print(f\"Warning: Error pada tokenisasi '{text[:50]}...': {str(e)}\")\n",
        "            return text.split()\n",
        "\n",
        "    def remove_stopwords(self, tokens: List[str]) -> List[str]:\n",
        "        \"\"\"Menghapus stopwords dengan penanganan error\"\"\"\n",
        "        if not tokens:\n",
        "            return []\n",
        "        try:\n",
        "            return [word for word in tokens if word not in self.stopwords]\n",
        "        except Exception as e:\n",
        "            print(f\"Warning: Error pada remove stopwords: {str(e)}\")\n",
        "            return tokens\n",
        "\n",
        "    def fit(self, text: str, concate: bool = False) -> Union[List[str], str]:\n",
        "        \"\"\"\n",
        "        Melakukan preprocessing lengkap dengan penanganan error di setiap tahap\n",
        "\n",
        "        Args:\n",
        "            text: Text yang akan dipreprocess\n",
        "            concate: Jika True, mengembalikan string. Jika False, mengembalikan list\n",
        "\n",
        "        Returns:\n",
        "            Text yang sudah dipreprocess dalam bentuk string atau list\n",
        "        \"\"\"\n",
        "        try:\n",
        "            if pd.isna(text):\n",
        "                return \"\" if concate else []\n",
        "\n",
        "            X = self.lowercasing(str(text))\n",
        "            X = self.stemming(X)\n",
        "            X = self.tokenize(X)\n",
        "            X = self.remove_stopwords(X)\n",
        "\n",
        "            if concate:\n",
        "                X = \" \".join(X) if X else \"\"\n",
        "\n",
        "            return X\n",
        "        except Exception as e:\n",
        "            print(f\"Warning: Error pada preprocessing '{str(text)[:50]}...': {str(e)}\")\n",
        "            return \"\" if concate else []"
      ]
    },
    {
      "cell_type": "markdown",
      "metadata": {
        "id": "FJRRCONXdZiu"
      },
      "source": [
        "# Sentiment Classification"
      ]
    },
    {
      "cell_type": "code",
      "execution_count": 9,
      "metadata": {
        "id": "kPcAx-l6dqHC"
      },
      "outputs": [],
      "source": [
        "@dataclass\n",
        "class SentimentConfig:\n",
        "  \"\"\" Konfiguasi untuk Model Sentimen Analisis \"\"\"\n",
        "  model_id: str = \"mdhugol/indonesia-bert-sentiment-classification\"\n",
        "  labels: Dict[str, str] = None\n",
        "\n",
        "  def __post_init__(self):\n",
        "    if self.labels is None:\n",
        "      self.labels = {\n",
        "          \"LABEL_0\": \"positif\",\n",
        "          \"LABEL_1\": \"netral\",\n",
        "          \"LABEL_2\": \"negatif\"\n",
        "      }"
      ]
    },
    {
      "cell_type": "code",
      "execution_count": 21,
      "metadata": {
        "id": "PBrI5bbLeHqo"
      },
      "outputs": [],
      "source": [
        "class IndoBERTSentimentAnalyzer:\n",
        "    def __init__(self, config: Optional[SentimentConfig] = None):\n",
        "        self.config = config or SentimentConfig()\n",
        "        self._initialize_model()\n",
        "\n",
        "    def _initialize_model(self) -> None:\n",
        "        try:\n",
        "            self.model = AutoModelForSequenceClassification.from_pretrained(self.config.model_id)\n",
        "            self.tokenizer = AutoTokenizer.from_pretrained(self.config.model_id)\n",
        "            self.sentiment_pipe = pipeline(\n",
        "                \"sentiment-analysis\",\n",
        "                model=self.model,\n",
        "                tokenizer=self.tokenizer\n",
        "            )\n",
        "        except Exception as e:\n",
        "            raise RuntimeError(f\"Gagal memuat model IndoBERT: {str(e)}\")\n",
        "\n",
        "    @lru_cache(maxsize=1024)\n",
        "    def analyze(self, text: str) -> str:\n",
        "        if not isinstance(text, str):\n",
        "            if pd.isna(text):\n",
        "                return \"netral\"\n",
        "            text = str(text)\n",
        "\n",
        "        text = text.strip()\n",
        "        if not text:\n",
        "            return \"netral\"\n",
        "\n",
        "        try:\n",
        "            result = self.sentiment_pipe(text)\n",
        "            return self.config.labels[result[0][\"label\"]]\n",
        "        except Exception as e:\n",
        "            return \"netral\"\n",
        "\n",
        "    def analyze_dataframe(\n",
        "        self,\n",
        "        df: pd.DataFrame,\n",
        "        text_column: str,\n",
        "        output_column: str = \"sentiment\",\n",
        "        batch_size: int = 32\n",
        "    ) -> pd.DataFrame:\n",
        "        if text_column not in df.columns:\n",
        "            raise ValueError(f\"Kolom '{text_column}' tidak ditemukan dalam DataFrame\")\n",
        "\n",
        "        result_df = df.copy()\n",
        "\n",
        "        # Menggunakan tqdm untuk progress bar\n",
        "        tqdm.pandas(desc=\"Analyzing sentiments\")\n",
        "        result_df[output_column] = df[text_column].progress_apply(self.analyze)\n",
        "\n",
        "        return result_df"
      ]
    },
    {
      "cell_type": "code",
      "execution_count": 30,
      "metadata": {
        "colab": {
          "base_uri": "https://localhost:8080/",
          "height": 256,
          "referenced_widgets": [
            "45355529da014ec9b1f1f630f7d50e32",
            "cb7885aa796247adad73b6ce640792e1",
            "b0580783eaf349cea3ea0fded6d35cee",
            "834b0b9ce61f43f082c857fb428b9a9e",
            "8bf033916a414237b9132427030d6443",
            "ee57cb26468040a6ba2c58917ab824c3",
            "a2745bea57b5445e9bec3079f9e1166c",
            "33abf578900c48e7906da27cc86986cc",
            "3d5f6eac4f444ac99140708adab0d075",
            "f1a54854fb8e4ff9beb715ccb5a6c76a",
            "d488de113d5b430c9b394e52dd3fac49"
          ]
        },
        "id": "BcJii3RggL8g",
        "outputId": "5171a3b1-aa08-4403-df03-7859cc7fd381"
      },
      "outputs": [
        {
          "name": "stderr",
          "output_type": "stream",
          "text": [
            "Device set to use cuda:0\n"
          ]
        },
        {
          "data": {
            "application/vnd.jupyter.widget-view+json": {
              "model_id": "45355529da014ec9b1f1f630f7d50e32",
              "version_major": 2,
              "version_minor": 0
            },
            "text/plain": [
              "Analyzing sentiments:   0%|          | 0/4440 [00:00<?, ?it/s]"
            ]
          },
          "metadata": {},
          "output_type": "display_data"
        },
        {
          "data": {
            "application/vnd.google.colaboratory.intrinsic+json": {
              "summary": "{\n  \"name\": \"result_df\",\n  \"rows\": 4440,\n  \"fields\": [\n    {\n      \"column\": \"name\",\n      \"properties\": {\n        \"dtype\": \"string\",\n        \"num_unique_values\": 4400,\n        \"samples\": [\n          \"Febri Waspada\",\n          \"Syta Fitriya\",\n          \"Muhammad Adil\"\n        ],\n        \"semantic_type\": \"\",\n        \"description\": \"\"\n      }\n    },\n    {\n      \"column\": \"date\",\n      \"properties\": {\n        \"dtype\": \"date\",\n        \"min\": \"2024-09-01 00:00:00\",\n        \"max\": \"2024-11-30 00:00:00\",\n        \"num_unique_values\": 60,\n        \"samples\": [\n          \"2024-09-01 00:00:00\",\n          \"2024-09-06 00:00:00\",\n          \"2024-11-07 00:00:00\"\n        ],\n        \"semantic_type\": \"\",\n        \"description\": \"\"\n      }\n    },\n    {\n      \"column\": \"star\",\n      \"properties\": {\n        \"dtype\": \"number\",\n        \"std\": 1,\n        \"min\": 1,\n        \"max\": 5,\n        \"num_unique_values\": 5,\n        \"samples\": [\n          5,\n          3,\n          4\n        ],\n        \"semantic_type\": \"\",\n        \"description\": \"\"\n      }\n    },\n    {\n      \"column\": \"comment\",\n      \"properties\": {\n        \"dtype\": \"string\",\n        \"num_unique_values\": 4440,\n        \"samples\": [\n          \"Semoga developer yang bikin game ini masuk neraka. Saya main solo bisa bisa nya ketemu duo dan trio. Mending duo dan trio nya main bagus. Ini duo trio nya main nya jelek. Tolong diperbaiki lah. Kalo solo ya ketemu solo. Rank tim sendiri harus seimbang. Ini ketemu tim lawan rank nya diatas. Giliran team sendiri dikasih rank yang dibawah.\",\n          \"Game aneh, jaringan jelek terus padahal make wifi(di dekat Wifi-nya),dapat tim dark system terus,banyak bug(terkeluar sendiri,ngefreeze),Hero di tim musuh op semua.\",\n          \"Kasih 4 bintang sebab masih belum puas dengan update yang tak jelas. Setiap update kegedean banyak makan kuota dan jaringan pas main sering rusak. Gimana mau push rank. Tolong di perhatikan kecepatan jaringan nya jangan hanya update besar besaran yang ada, jaringan prioritas kan dulu\"\n        ],\n        \"semantic_type\": \"\",\n        \"description\": \"\"\n      }\n    },\n    {\n      \"column\": \"comment_prep\",\n      \"properties\": {\n        \"dtype\": \"string\",\n        \"num_unique_values\": 4439,\n        \"samples\": [\n          \"moga developer bikin game masuk neraka main solo nya ketemu duo trio mending duo trio nya main bagus duo trio nya main nya jelek tolong kalo solo ya ketemu solo rank tim imbang ketemu tim lawan rank nya gilir team kasih rank\",\n          \"game rusak sistem macthmaking gak nya 16 macth menang cuman 4 macth sisa kalah selesai macth medal emas mvp perbaikin sistem capek kalah mulu\",\n          \"kasih 4 bintang puas update update gede makan kuota jaring pas main rusak gimana push rank tolong perhati cepat jaring nya update jaring prioritas\"\n        ],\n        \"semantic_type\": \"\",\n        \"description\": \"\"\n      }\n    },\n    {\n      \"column\": \"sentiment\",\n      \"properties\": {\n        \"dtype\": \"category\",\n        \"num_unique_values\": 3,\n        \"samples\": [\n          \"positif\",\n          \"negatif\",\n          \"netral\"\n        ],\n        \"semantic_type\": \"\",\n        \"description\": \"\"\n      }\n    }\n  ]\n}",
              "type": "dataframe",
              "variable_name": "result_df"
            },
            "text/html": [
              "\n",
              "  <div id=\"df-9321c6ca-e6eb-440d-8761-223c09aa53bd\" class=\"colab-df-container\">\n",
              "    <div>\n",
              "<style scoped>\n",
              "    .dataframe tbody tr th:only-of-type {\n",
              "        vertical-align: middle;\n",
              "    }\n",
              "\n",
              "    .dataframe tbody tr th {\n",
              "        vertical-align: top;\n",
              "    }\n",
              "\n",
              "    .dataframe thead th {\n",
              "        text-align: right;\n",
              "    }\n",
              "</style>\n",
              "<table border=\"1\" class=\"dataframe\">\n",
              "  <thead>\n",
              "    <tr style=\"text-align: right;\">\n",
              "      <th></th>\n",
              "      <th>name</th>\n",
              "      <th>date</th>\n",
              "      <th>star</th>\n",
              "      <th>comment</th>\n",
              "      <th>comment_prep</th>\n",
              "      <th>sentiment</th>\n",
              "    </tr>\n",
              "  </thead>\n",
              "  <tbody>\n",
              "    <tr>\n",
              "      <th>3471</th>\n",
              "      <td>Bocil Oyen</td>\n",
              "      <td>2024-09-01</td>\n",
              "      <td>1</td>\n",
              "      <td>Ada jg perbaiki system matching nya, bukan bag...</td>\n",
              "      <td>jg system matching nya skin gratis dark system...</td>\n",
              "      <td>positif</td>\n",
              "    </tr>\n",
              "    <tr>\n",
              "      <th>3494</th>\n",
              "      <td>Raffa Al Fatir</td>\n",
              "      <td>2024-09-01</td>\n",
              "      <td>5</td>\n",
              "      <td>menurut saya udah bagus, efek skin sekarang ud...</td>\n",
              "      <td>udah bagus efek skin udah keren keren banget k...</td>\n",
              "      <td>positif</td>\n",
              "    </tr>\n",
              "    <tr>\n",
              "      <th>3961</th>\n",
              "      <td>yusuf Nugroho</td>\n",
              "      <td>2024-09-01</td>\n",
              "      <td>1</td>\n",
              "      <td>saya kasih bintang 1 karena banyak nya drak si...</td>\n",
              "      <td>kasih bintang 1 nya drak sistem menggangu play...</td>\n",
              "      <td>negatif</td>\n",
              "    </tr>\n",
              "    <tr>\n",
              "      <th>3569</th>\n",
              "      <td>Tegar Gar</td>\n",
              "      <td>2024-09-01</td>\n",
              "      <td>1</td>\n",
              "      <td>game yang tidak pantas untuk di donlot karena ...</td>\n",
              "      <td>game donlot alas 1 ngasih lawan ngga tara team...</td>\n",
              "      <td>negatif</td>\n",
              "    </tr>\n",
              "    <tr>\n",
              "      <th>3730</th>\n",
              "      <td>M. Rahman</td>\n",
              "      <td>2024-09-01</td>\n",
              "      <td>1</td>\n",
              "      <td>Tolong di perbaiki lagi bug sinyal nya gimana ...</td>\n",
              "      <td>tolong bug sinyal nya gimana sinyal wifi full ...</td>\n",
              "      <td>negatif</td>\n",
              "    </tr>\n",
              "  </tbody>\n",
              "</table>\n",
              "</div>\n",
              "    <div class=\"colab-df-buttons\">\n",
              "\n",
              "  <div class=\"colab-df-container\">\n",
              "    <button class=\"colab-df-convert\" onclick=\"convertToInteractive('df-9321c6ca-e6eb-440d-8761-223c09aa53bd')\"\n",
              "            title=\"Convert this dataframe to an interactive table.\"\n",
              "            style=\"display:none;\">\n",
              "\n",
              "  <svg xmlns=\"http://www.w3.org/2000/svg\" height=\"24px\" viewBox=\"0 -960 960 960\">\n",
              "    <path d=\"M120-120v-720h720v720H120Zm60-500h600v-160H180v160Zm220 220h160v-160H400v160Zm0 220h160v-160H400v160ZM180-400h160v-160H180v160Zm440 0h160v-160H620v160ZM180-180h160v-160H180v160Zm440 0h160v-160H620v160Z\"/>\n",
              "  </svg>\n",
              "    </button>\n",
              "\n",
              "  <style>\n",
              "    .colab-df-container {\n",
              "      display:flex;\n",
              "      gap: 12px;\n",
              "    }\n",
              "\n",
              "    .colab-df-convert {\n",
              "      background-color: #E8F0FE;\n",
              "      border: none;\n",
              "      border-radius: 50%;\n",
              "      cursor: pointer;\n",
              "      display: none;\n",
              "      fill: #1967D2;\n",
              "      height: 32px;\n",
              "      padding: 0 0 0 0;\n",
              "      width: 32px;\n",
              "    }\n",
              "\n",
              "    .colab-df-convert:hover {\n",
              "      background-color: #E2EBFA;\n",
              "      box-shadow: 0px 1px 2px rgba(60, 64, 67, 0.3), 0px 1px 3px 1px rgba(60, 64, 67, 0.15);\n",
              "      fill: #174EA6;\n",
              "    }\n",
              "\n",
              "    .colab-df-buttons div {\n",
              "      margin-bottom: 4px;\n",
              "    }\n",
              "\n",
              "    [theme=dark] .colab-df-convert {\n",
              "      background-color: #3B4455;\n",
              "      fill: #D2E3FC;\n",
              "    }\n",
              "\n",
              "    [theme=dark] .colab-df-convert:hover {\n",
              "      background-color: #434B5C;\n",
              "      box-shadow: 0px 1px 3px 1px rgba(0, 0, 0, 0.15);\n",
              "      filter: drop-shadow(0px 1px 2px rgba(0, 0, 0, 0.3));\n",
              "      fill: #FFFFFF;\n",
              "    }\n",
              "  </style>\n",
              "\n",
              "    <script>\n",
              "      const buttonEl =\n",
              "        document.querySelector('#df-9321c6ca-e6eb-440d-8761-223c09aa53bd button.colab-df-convert');\n",
              "      buttonEl.style.display =\n",
              "        google.colab.kernel.accessAllowed ? 'block' : 'none';\n",
              "\n",
              "      async function convertToInteractive(key) {\n",
              "        const element = document.querySelector('#df-9321c6ca-e6eb-440d-8761-223c09aa53bd');\n",
              "        const dataTable =\n",
              "          await google.colab.kernel.invokeFunction('convertToInteractive',\n",
              "                                                    [key], {});\n",
              "        if (!dataTable) return;\n",
              "\n",
              "        const docLinkHtml = 'Like what you see? Visit the ' +\n",
              "          '<a target=\"_blank\" href=https://colab.research.google.com/notebooks/data_table.ipynb>data table notebook</a>'\n",
              "          + ' to learn more about interactive tables.';\n",
              "        element.innerHTML = '';\n",
              "        dataTable['output_type'] = 'display_data';\n",
              "        await google.colab.output.renderOutput(dataTable, element);\n",
              "        const docLink = document.createElement('div');\n",
              "        docLink.innerHTML = docLinkHtml;\n",
              "        element.appendChild(docLink);\n",
              "      }\n",
              "    </script>\n",
              "  </div>\n",
              "\n",
              "\n",
              "<div id=\"df-86be10b4-ab36-43ad-b6c8-9c2fc7a69bbb\">\n",
              "  <button class=\"colab-df-quickchart\" onclick=\"quickchart('df-86be10b4-ab36-43ad-b6c8-9c2fc7a69bbb')\"\n",
              "            title=\"Suggest charts\"\n",
              "            style=\"display:none;\">\n",
              "\n",
              "<svg xmlns=\"http://www.w3.org/2000/svg\" height=\"24px\"viewBox=\"0 0 24 24\"\n",
              "     width=\"24px\">\n",
              "    <g>\n",
              "        <path d=\"M19 3H5c-1.1 0-2 .9-2 2v14c0 1.1.9 2 2 2h14c1.1 0 2-.9 2-2V5c0-1.1-.9-2-2-2zM9 17H7v-7h2v7zm4 0h-2V7h2v10zm4 0h-2v-4h2v4z\"/>\n",
              "    </g>\n",
              "</svg>\n",
              "  </button>\n",
              "\n",
              "<style>\n",
              "  .colab-df-quickchart {\n",
              "      --bg-color: #E8F0FE;\n",
              "      --fill-color: #1967D2;\n",
              "      --hover-bg-color: #E2EBFA;\n",
              "      --hover-fill-color: #174EA6;\n",
              "      --disabled-fill-color: #AAA;\n",
              "      --disabled-bg-color: #DDD;\n",
              "  }\n",
              "\n",
              "  [theme=dark] .colab-df-quickchart {\n",
              "      --bg-color: #3B4455;\n",
              "      --fill-color: #D2E3FC;\n",
              "      --hover-bg-color: #434B5C;\n",
              "      --hover-fill-color: #FFFFFF;\n",
              "      --disabled-bg-color: #3B4455;\n",
              "      --disabled-fill-color: #666;\n",
              "  }\n",
              "\n",
              "  .colab-df-quickchart {\n",
              "    background-color: var(--bg-color);\n",
              "    border: none;\n",
              "    border-radius: 50%;\n",
              "    cursor: pointer;\n",
              "    display: none;\n",
              "    fill: var(--fill-color);\n",
              "    height: 32px;\n",
              "    padding: 0;\n",
              "    width: 32px;\n",
              "  }\n",
              "\n",
              "  .colab-df-quickchart:hover {\n",
              "    background-color: var(--hover-bg-color);\n",
              "    box-shadow: 0 1px 2px rgba(60, 64, 67, 0.3), 0 1px 3px 1px rgba(60, 64, 67, 0.15);\n",
              "    fill: var(--button-hover-fill-color);\n",
              "  }\n",
              "\n",
              "  .colab-df-quickchart-complete:disabled,\n",
              "  .colab-df-quickchart-complete:disabled:hover {\n",
              "    background-color: var(--disabled-bg-color);\n",
              "    fill: var(--disabled-fill-color);\n",
              "    box-shadow: none;\n",
              "  }\n",
              "\n",
              "  .colab-df-spinner {\n",
              "    border: 2px solid var(--fill-color);\n",
              "    border-color: transparent;\n",
              "    border-bottom-color: var(--fill-color);\n",
              "    animation:\n",
              "      spin 1s steps(1) infinite;\n",
              "  }\n",
              "\n",
              "  @keyframes spin {\n",
              "    0% {\n",
              "      border-color: transparent;\n",
              "      border-bottom-color: var(--fill-color);\n",
              "      border-left-color: var(--fill-color);\n",
              "    }\n",
              "    20% {\n",
              "      border-color: transparent;\n",
              "      border-left-color: var(--fill-color);\n",
              "      border-top-color: var(--fill-color);\n",
              "    }\n",
              "    30% {\n",
              "      border-color: transparent;\n",
              "      border-left-color: var(--fill-color);\n",
              "      border-top-color: var(--fill-color);\n",
              "      border-right-color: var(--fill-color);\n",
              "    }\n",
              "    40% {\n",
              "      border-color: transparent;\n",
              "      border-right-color: var(--fill-color);\n",
              "      border-top-color: var(--fill-color);\n",
              "    }\n",
              "    60% {\n",
              "      border-color: transparent;\n",
              "      border-right-color: var(--fill-color);\n",
              "    }\n",
              "    80% {\n",
              "      border-color: transparent;\n",
              "      border-right-color: var(--fill-color);\n",
              "      border-bottom-color: var(--fill-color);\n",
              "    }\n",
              "    90% {\n",
              "      border-color: transparent;\n",
              "      border-bottom-color: var(--fill-color);\n",
              "    }\n",
              "  }\n",
              "</style>\n",
              "\n",
              "  <script>\n",
              "    async function quickchart(key) {\n",
              "      const quickchartButtonEl =\n",
              "        document.querySelector('#' + key + ' button');\n",
              "      quickchartButtonEl.disabled = true;  // To prevent multiple clicks.\n",
              "      quickchartButtonEl.classList.add('colab-df-spinner');\n",
              "      try {\n",
              "        const charts = await google.colab.kernel.invokeFunction(\n",
              "            'suggestCharts', [key], {});\n",
              "      } catch (error) {\n",
              "        console.error('Error during call to suggestCharts:', error);\n",
              "      }\n",
              "      quickchartButtonEl.classList.remove('colab-df-spinner');\n",
              "      quickchartButtonEl.classList.add('colab-df-quickchart-complete');\n",
              "    }\n",
              "    (() => {\n",
              "      let quickchartButtonEl =\n",
              "        document.querySelector('#df-86be10b4-ab36-43ad-b6c8-9c2fc7a69bbb button');\n",
              "      quickchartButtonEl.style.display =\n",
              "        google.colab.kernel.accessAllowed ? 'block' : 'none';\n",
              "    })();\n",
              "  </script>\n",
              "</div>\n",
              "\n",
              "    </div>\n",
              "  </div>\n"
            ],
            "text/plain": [
              "                name       date  star  \\\n",
              "3471      Bocil Oyen 2024-09-01     1   \n",
              "3494  Raffa Al Fatir 2024-09-01     5   \n",
              "3961   yusuf Nugroho 2024-09-01     1   \n",
              "3569       Tegar Gar 2024-09-01     1   \n",
              "3730       M. Rahman 2024-09-01     1   \n",
              "\n",
              "                                                comment  \\\n",
              "3471  Ada jg perbaiki system matching nya, bukan bag...   \n",
              "3494  menurut saya udah bagus, efek skin sekarang ud...   \n",
              "3961  saya kasih bintang 1 karena banyak nya drak si...   \n",
              "3569  game yang tidak pantas untuk di donlot karena ...   \n",
              "3730  Tolong di perbaiki lagi bug sinyal nya gimana ...   \n",
              "\n",
              "                                           comment_prep sentiment  \n",
              "3471  jg system matching nya skin gratis dark system...   positif  \n",
              "3494  udah bagus efek skin udah keren keren banget k...   positif  \n",
              "3961  kasih bintang 1 nya drak sistem menggangu play...   negatif  \n",
              "3569  game donlot alas 1 ngasih lawan ngga tara team...   negatif  \n",
              "3730  tolong bug sinyal nya gimana sinyal wifi full ...   negatif  "
            ]
          },
          "execution_count": 30,
          "metadata": {},
          "output_type": "execute_result"
        }
      ],
      "source": [
        "preprocessor = Preprocessor()\n",
        "analyzer = IndoBERTSentimentAnalyzer()\n",
        "\n",
        "# Preprocessing\n",
        "df[\"comment_prep\"] = df[\"comment\"].apply(lambda x: preprocessor.fit(x, concate=True))\n",
        "\n",
        "result_df = analyzer.analyze_dataframe(df, \"comment_prep\")\n",
        "result_df.head()"
      ]
    },
    {
      "cell_type": "code",
      "execution_count": 31,
      "metadata": {
        "colab": {
          "base_uri": "https://localhost:8080/",
          "height": 406
        },
        "id": "GY0PJq0IFY3Q",
        "outputId": "528d6443-17bc-4275-ab6b-f9bbb57dc557"
      },
      "outputs": [
        {
          "data": {
            "image/png": "[encoded data removed]",
            "text/plain": [
              "<Figure size 640x480 with 1 Axes>"
            ]
          },
          "metadata": {},
          "output_type": "display_data"
        }
      ],
      "source": [
        "plt.pie(result_df.sentiment.value_counts(), labels=result_df.sentiment.value_counts().index, autopct='%1.1f%%')\n",
        "plt.show()"
      ]
    },
    {
      "cell_type": "code",
      "execution_count": 32,
      "metadata": {
        "id": "MlL3v_syFYxm"
      },
      "outputs": [],
      "source": [
        "result_df.to_csv(\"MLBB Reviews Processed.csv\", index=False)"
      ]
    },
    {
      "cell_type": "code",
      "execution_count": 26,
      "metadata": {
        "colab": {
          "base_uri": "https://localhost:8080/"
        },
        "id": "CyHv4U2xn-2q",
        "outputId": "9ae499e4-bfa4-45fd-95b1-d2ef18668d4d"
      },
      "outputs": [
        {
          "data": {
            "text/plain": [
              "4440"
            ]
          },
          "execution_count": 26,
          "metadata": {},
          "output_type": "execute_result"
        }
      ],
      "source": [
        "result_df.shape[0]"
      ]
    },
    {
      "cell_type": "markdown",
      "metadata": {
        "id": "L4AJLKYMDSTj"
      },
      "source": [
        "# Exploratory Data Analysis"
      ]
    },
    {
      "cell_type": "code",
      "execution_count": null,
      "metadata": {
        "colab": {
          "base_uri": "https://localhost:8080/"
        },
        "id": "OXN73Y1fB4rV",
        "outputId": "74d8bed9-f35b-4dcf-dc71-2d5337d12840"
      },
      "outputs": [
        {
          "name": "stdout",
          "output_type": "stream",
          "text": [
            "Data ini diambil dari tanggal 01 September 2024 sampai 30 November 2024\n"
          ]
        }
      ],
      "source": [
        "print(f\"Data ini diambil dari tanggal {df.date.min().strftime('%d %B %Y')} sampai {df.date.max().strftime('%d %B %Y')}\")"
      ]
    },
    {
      "cell_type": "code",
      "execution_count": null,
      "metadata": {
        "colab": {
          "base_uri": "https://localhost:8080/",
          "height": 484
        },
        "id": "OJYnsm0QCaGV",
        "outputId": "12f92745-e5d8-4689-c592-adc0462acd96"
      },
      "outputs": [
        {
          "name": "stdout",
          "output_type": "stream",
          "text": [
            "Rata-rata star: 2.17 \n",
            "\n"
          ]
        },
        {
          "data": {
            "image/png": "[encoded data removed]",
            "text/plain": [
              "<Figure size 640x480 with 1 Axes>"
            ]
          },
          "metadata": {},
          "output_type": "display_data"
        }
      ],
      "source": [
        "# Count Plot + avarage in star column\n",
        "sns.countplot(data=df, x=\"star\")\n",
        "print(f\"Rata-rata star: {df.star.mean():.2f} \\n\")"
      ]
    },
    {
      "cell_type": "code",
      "execution_count": null,
      "metadata": {
        "id": "kkxXrjmNCqTh"
      },
      "outputs": [],
      "source": []
    }
  ],
  "metadata": {
    "accelerator": "GPU",
    "colab": {
      "gpuType": "T4",
      "provenance": []
    },
    "kernelspec": {
      "display_name": ".venv",
      "language": "python",
      "name": "python3"
    },
    "language_info": {
      "name": "python",
      "version": "3.11.11"
    },
    "widgets": {
      "application/vnd.jupyter.widget-state+json": {
        "33abf578900c48e7906da27cc86986cc": {
          "model_module": "@jupyter-widgets/base",
          "model_module_version": "1.2.0",
          "model_name": "LayoutModel",
          "state": {
            "_model_module": "@jupyter-widgets/base",
            "_model_module_version": "1.2.0",
            "_model_name": "LayoutModel",
            "_view_count": null,
            "_view_module": "@jupyter-widgets/base",
            "_view_module_version": "1.2.0",
            "_view_name": "LayoutView",
            "align_content": null,
            "align_items": null,
            "align_self": null,
            "border": null,
            "bottom": null,
            "display": null,
            "flex": null,
            "flex_flow": null,
            "grid_area": null,
            "grid_auto_columns": null,
            "grid_auto_flow": null,
            "grid_auto_rows": null,
            "grid_column": null,
            "grid_gap": null,
            "grid_row": null,
            "grid_template_areas": null,
            "grid_template_columns": null,
            "grid_template_rows": null,
            "height": null,
            "justify_content": null,
            "justify_items": null,
            "left": null,
            "margin": null,
            "max_height": null,
            "max_width": null,
            "min_height": null,
            "min_width": null,
            "object_fit": null,
            "object_position": null,
            "order": null,
            "overflow": null,
            "overflow_x": null,
            "overflow_y": null,
            "padding": null,
            "right": null,
            "top": null,
            "visibility": null,
            "width": null
          }
        },
        "3d5f6eac4f444ac99140708adab0d075": {
          "model_module": "@jupyter-widgets/controls",
          "model_module_version": "1.5.0",
          "model_name": "ProgressStyleModel",
          "state": {
            "_model_module": "@jupyter-widgets/controls",
            "_model_module_version": "1.5.0",
            "_model_name": "ProgressStyleModel",
            "_view_count": null,
            "_view_module": "@jupyter-widgets/base",
            "_view_module_version": "1.2.0",
            "_view_name": "StyleView",
            "bar_color": null,
            "description_width": ""
          }
        },
        "45355529da014ec9b1f1f630f7d50e32": {
          "model_module": "@jupyter-widgets/controls",
          "model_module_version": "1.5.0",
          "model_name": "HBoxModel",
          "state": {
            "_dom_classes": [],
            "_model_module": "@jupyter-widgets/controls",
            "_model_module_version": "1.5.0",
            "_model_name": "HBoxModel",
            "_view_count": null,
            "_view_module": "@jupyter-widgets/controls",
            "_view_module_version": "1.5.0",
            "_view_name": "HBoxView",
            "box_style": "",
            "children": [
              "IPY_MODEL_cb7885aa796247adad73b6ce640792e1",
              "IPY_MODEL_b0580783eaf349cea3ea0fded6d35cee",
              "IPY_MODEL_834b0b9ce61f43f082c857fb428b9a9e"
            ],
            "layout": "IPY_MODEL_8bf033916a414237b9132427030d6443"
          }
        },
        "834b0b9ce61f43f082c857fb428b9a9e": {
          "model_module": "@jupyter-widgets/controls",
          "model_module_version": "1.5.0",
          "model_name": "HTMLModel",
          "state": {
            "_dom_classes": [],
            "_model_module": "@jupyter-widgets/controls",
            "_model_module_version": "1.5.0",
            "_model_name": "HTMLModel",
            "_view_count": null,
            "_view_module": "@jupyter-widgets/controls",
            "_view_module_version": "1.5.0",
            "_view_name": "HTMLView",
            "description": "",
            "description_tooltip": null,
            "layout": "IPY_MODEL_f1a54854fb8e4ff9beb715ccb5a6c76a",
            "placeholder": "​",
            "style": "IPY_MODEL_d488de113d5b430c9b394e52dd3fac49",
            "value": " 4440/4440 [00:47&lt;00:00, 111.32it/s]"
          }
        },
        "8bf033916a414237b9132427030d6443": {
          "model_module": "@jupyter-widgets/base",
          "model_module_version": "1.2.0",
          "model_name": "LayoutModel",
          "state": {
            "_model_module": "@jupyter-widgets/base",
            "_model_module_version": "1.2.0",
            "_model_name": "LayoutModel",
            "_view_count": null,
            "_view_module": "@jupyter-widgets/base",
            "_view_module_version": "1.2.0",
            "_view_name": "LayoutView",
            "align_content": null,
            "align_items": null,
            "align_self": null,
            "border": null,
            "bottom": null,
            "display": null,
            "flex": null,
            "flex_flow": null,
            "grid_area": null,
            "grid_auto_columns": null,
            "grid_auto_flow": null,
            "grid_auto_rows": null,
            "grid_column": null,
            "grid_gap": null,
            "grid_row": null,
            "grid_template_areas": null,
            "grid_template_columns": null,
            "grid_template_rows": null,
            "height": null,
            "justify_content": null,
            "justify_items": null,
            "left": null,
            "margin": null,
            "max_height": null,
            "max_width": null,
            "min_height": null,
            "min_width": null,
            "object_fit": null,
            "object_position": null,
            "order": null,
            "overflow": null,
            "overflow_x": null,
            "overflow_y": null,
            "padding": null,
            "right": null,
            "top": null,
            "visibility": null,
            "width": null
          }
        },
        "a2745bea57b5445e9bec3079f9e1166c": {
          "model_module": "@jupyter-widgets/controls",
          "model_module_version": "1.5.0",
          "model_name": "DescriptionStyleModel",
          "state": {
            "_model_module": "@jupyter-widgets/controls",
            "_model_module_version": "1.5.0",
            "_model_name": "DescriptionStyleModel",
            "_view_count": null,
            "_view_module": "@jupyter-widgets/base",
            "_view_module_version": "1.2.0",
            "_view_name": "StyleView",
            "description_width": ""
          }
        },
        "b0580783eaf349cea3ea0fded6d35cee": {
          "model_module": "@jupyter-widgets/controls",
          "model_module_version": "1.5.0",
          "model_name": "FloatProgressModel",
          "state": {
            "_dom_classes": [],
            "_model_module": "@jupyter-widgets/controls",
            "_model_module_version": "1.5.0",
            "_model_name": "FloatProgressModel",
            "_view_count": null,
            "_view_module": "@jupyter-widgets/controls",
            "_view_module_version": "1.5.0",
            "_view_name": "ProgressView",
            "bar_style": "success",
            "description": "",
            "description_tooltip": null,
            "layout": "IPY_MODEL_33abf578900c48e7906da27cc86986cc",
            "max": 4440,
            "min": 0,
            "orientation": "horizontal",
            "style": "IPY_MODEL_3d5f6eac4f444ac99140708adab0d075",
            "value": 4440
          }
        },
        "cb7885aa796247adad73b6ce640792e1": {
          "model_module": "@jupyter-widgets/controls",
          "model_module_version": "1.5.0",
          "model_name": "HTMLModel",
          "state": {
            "_dom_classes": [],
            "_model_module": "@jupyter-widgets/controls",
            "_model_module_version": "1.5.0",
            "_model_name": "HTMLModel",
            "_view_count": null,
            "_view_module": "@jupyter-widgets/controls",
            "_view_module_version": "1.5.0",
            "_view_name": "HTMLView",
            "description": "",
            "description_tooltip": null,
            "layout": "IPY_MODEL_ee57cb26468040a6ba2c58917ab824c3",
            "placeholder": "​",
            "style": "IPY_MODEL_a2745bea57b5445e9bec3079f9e1166c",
            "value": "Analyzing sentiments: 100%"
          }
        },
        "d488de113d5b430c9b394e52dd3fac49": {
          "model_module": "@jupyter-widgets/controls",
          "model_module_version": "1.5.0",
          "model_name": "DescriptionStyleModel",
          "state": {
            "_model_module": "@jupyter-widgets/controls",
            "_model_module_version": "1.5.0",
            "_model_name": "DescriptionStyleModel",
            "_view_count": null,
            "_view_module": "@jupyter-widgets/base",
            "_view_module_version": "1.2.0",
            "_view_name": "StyleView",
            "description_width": ""
          }
        },
        "ee57cb26468040a6ba2c58917ab824c3": {
          "model_module": "@jupyter-widgets/base",
          "model_module_version": "1.2.0",
          "model_name": "LayoutModel",
          "state": {
            "_model_module": "@jupyter-widgets/base",
            "_model_module_version": "1.2.0",
            "_model_name": "LayoutModel",
            "_view_count": null,
            "_view_module": "@jupyter-widgets/base",
            "_view_module_version": "1.2.0",
            "_view_name": "LayoutView",
            "align_content": null,
            "align_items": null,
            "align_self": null,
            "border": null,
            "bottom": null,
            "display": null,
            "flex": null,
            "flex_flow": null,
            "grid_area": null,
            "grid_auto_columns": null,
            "grid_auto_flow": null,
            "grid_auto_rows": null,
            "grid_column": null,
            "grid_gap": null,
            "grid_row": null,
            "grid_template_areas": null,
            "grid_template_columns": null,
            "grid_template_rows": null,
            "height": null,
            "justify_content": null,
            "justify_items": null,
            "left": null,
            "margin": null,
            "max_height": null,
            "max_width": null,
            "min_height": null,
            "min_width": null,
            "object_fit": null,
            "object_position": null,
            "order": null,
            "overflow": null,
            "overflow_x": null,
            "overflow_y": null,
            "padding": null,
            "right": null,
            "top": null,
            "visibility": null,
            "width": null
          }
        },
        "f1a54854fb8e4ff9beb715ccb5a6c76a": {
          "model_module": "@jupyter-widgets/base",
          "model_module_version": "1.2.0",
          "model_name": "LayoutModel",
          "state": {
            "_model_module": "@jupyter-widgets/base",
            "_model_module_version": "1.2.0",
            "_model_name": "LayoutModel",
            "_view_count": null,
            "_view_module": "@jupyter-widgets/base",
            "_view_module_version": "1.2.0",
            "_view_name": "LayoutView",
            "align_content": null,
            "align_items": null,
            "align_self": null,
            "border": null,
            "bottom": null,
            "display": null,
            "flex": null,
            "flex_flow": null,
            "grid_area": null,
            "grid_auto_columns": null,
            "grid_auto_flow": null,
            "grid_auto_rows": null,
            "grid_column": null,
            "grid_gap": null,
            "grid_row": null,
            "grid_template_areas": null,
            "grid_template_columns": null,
            "grid_template_rows": null,
            "height": null,
            "justify_content": null,
            "justify_items": null,
            "left": null,
            "margin": null,
            "max_height": null,
            "max_width": null,
            "min_height": null,
            "min_width": null,
            "object_fit": null,
            "object_position": null,
            "order": null,
            "overflow": null,
            "overflow_x": null,
            "overflow_y": null,
            "padding": null,
            "right": null,
            "top": null,
            "visibility": null,
            "width": null
          }
        }
      }
    }
  },
  "nbformat": 4,
  "nbformat_minor": 0
}
